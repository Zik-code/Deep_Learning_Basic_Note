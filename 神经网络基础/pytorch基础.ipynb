{
 "cells": [
  {
   "cell_type": "code",
   "execution_count": 2,
   "metadata": {},
   "outputs": [],
   "source": [
    "import torch"
   ]
  },
  {
   "cell_type": "code",
   "execution_count": 4,
   "metadata": {},
   "outputs": [],
   "source": [
    "import torchvision"
   ]
  },
  {
   "cell_type": "code",
   "execution_count": 5,
   "metadata": {},
   "outputs": [
    {
     "name": "stdout",
     "output_type": "stream",
     "text": [
      "<module 'torch' from 'C:\\\\Users\\\\iyizuohz\\\\AppData\\\\Roaming\\\\Python\\\\Python312\\\\site-packages\\\\torch\\\\__init__.py'>\n"
     ]
    }
   ],
   "source": [
    "print(torch)"
   ]
  },
  {
   "cell_type": "code",
   "execution_count": null,
   "metadata": {},
   "outputs": [
    {
     "name": "stdout",
     "output_type": "stream",
     "text": [
      "tensor([5.5000, 3.0000])\n",
      "tensor([[1., 1., 1.],\n",
      "        [1., 1., 1.],\n",
      "        [1., 1., 1.],\n",
      "        [1., 1., 1.],\n",
      "        [1., 1., 1.]], dtype=torch.float64)\n",
      "new_x=tensor([[1, 2, 3],\n",
      "        [3, 4, 5]])\n",
      "tensor([[ 0.4120,  0.7137, -0.2586],\n",
      "        [ 0.1169,  0.3604, -0.2483],\n",
      "        [-0.2630, -1.1450, -1.4426],\n",
      "        [ 0.6650,  1.8293, -1.1649],\n",
      "        [ 0.5603,  0.4311, -0.4894]])\n",
      "torch.Size([5, 3])\n",
      "tensor([[ 0.6751,  1.4423, -0.1069],\n",
      "        [ 0.6364,  0.6722,  0.3179],\n",
      "        [ 0.1833, -0.9052, -1.1655],\n",
      "        [ 0.9714,  2.0395, -0.9702],\n",
      "        [ 1.3119,  0.5636,  0.3902]])\n",
      "tensor([[ 0.6751,  1.4423, -0.1069],\n",
      "        [ 0.6364,  0.6722,  0.3179],\n",
      "        [ 0.1833, -0.9052, -1.1655],\n",
      "        [ 0.9714,  2.0395, -0.9702],\n",
      "        [ 1.3119,  0.5636,  0.3902]])\n",
      "tensor([[ 0.6751,  1.4423, -0.1069],\n",
      "        [ 0.6364,  0.6722,  0.3179],\n",
      "        [ 0.1833, -0.9052, -1.1655],\n",
      "        [ 0.9714,  2.0395, -0.9702],\n",
      "        [ 1.3119,  0.5636,  0.3902]])\n",
      "tensor([ 0.7137,  0.3604, -1.1450,  1.8293,  0.4311])\n"
     ]
    }
   ],
   "source": [
    "# 创建一个张量包含两个元素\n",
    "x=torch.tensor([5.5,3])\n",
    "print(x)\n",
    "x=x.new_ones(5,3,dtype=torch.double)\n",
    "print(x)\n",
    "new_x=torch.tensor([[1,2,3],[3,4,5]])\n",
    "print(f'new_x={new_x}')\n",
    "# 基于已有的张量创建一个二阶张量\n",
    "x = torch.randn_like(x,dtype=torch.float)\n",
    "print(x)\n",
    "print(x.size())\n",
    "# 二维张量的相加\n",
    "y=torch.rand(5,3)\n",
    "# 法一\n",
    "print(x+y)\n",
    "# 法二\n",
    "print(torch.add(x,y))\n",
    "# 提供tensor作为参数\n",
    "result = torch.empty(5,3)\n",
    "z=torch.add(x,y,out = result)\n",
    "print(z)\n",
    "\n",
    "\n"
   ]
  },
  {
   "cell_type": "code",
   "execution_count": 22,
   "metadata": {},
   "outputs": [
    {
     "name": "stdout",
     "output_type": "stream",
     "text": [
      "tensor([[1, 2, 3],\n",
      "        [3, 4, 5]])\n",
      "tensor([2, 4])\n",
      "tensor(3)\n",
      "tensor([1, 2, 3])\n"
     ]
    }
   ],
   "source": [
    "x=torch.tensor([[1,2,3],[3,4,5]])\n",
    "print(x)\n",
    "print(x[:, 1]) #选取所有行的第二列\n",
    "print(x[0,2])\n",
    "print(x[0,:])\n"
   ]
  },
  {
   "cell_type": "markdown",
   "metadata": {},
   "source": [
    "# pytorch的自动微分"
   ]
  },
  {
   "cell_type": "markdown",
   "metadata": {},
   "source": [
    "设置requires_grad=True 会跟踪张量的操作\n",
    "\n",
    "    x ---> (x ** 2) ---> (2 * x) ---> (x ** 2 + 2 * x) ---> (x ** 2 + 2 * x + 1) = y\n",
    "\n",
    "y.backward()：\n",
    "调用 y 的 backward() 方法会触发梯度的计算。\n",
    "\n",
    "PyTorch 会从 y 开始，根据计算图自动计算 y 关于 x 的梯度。\n",
    "\n",
    "对于 y = x ** 2 + 2 * x + 1，其导数为 y' = 2x + 2。\n",
    "\n",
    "当 x = 2.0 时，y' = 2 * 2 + 2 = 6.0。"
   ]
  },
  {
   "cell_type": "code",
   "execution_count": null,
   "metadata": {},
   "outputs": [
    {
     "name": "stdout",
     "output_type": "stream",
     "text": [
      "tensor([6.])\n"
     ]
    }
   ],
   "source": [
    "# 输入张量，并且设置 requires_grad=True\n",
    "x = torch.tensor([2.0], requires_grad=True)\n",
    "y = x ** 2 + 2 * x + 1\n",
    "\n",
    "# 计算梯度,求导\n",
    "y.backward()\n",
    "\n",
    "# 获取梯度\n",
    "print(x.grad)\n"
   ]
  },
  {
   "cell_type": "code",
   "execution_count": 33,
   "metadata": {},
   "outputs": [
    {
     "name": "stdout",
     "output_type": "stream",
     "text": [
      "tensor([[1., 1.],\n",
      "        [1., 1.]], requires_grad=True)\n",
      "<AddBackward0 object at 0x0000018EEA49BB50>\n",
      "tensor([[12., 12.],\n",
      "        [12., 12.]], grad_fn=<MulBackward0>) tensor(12., grad_fn=<MeanBackward0>)\n",
      "None\n",
      "tensor([[3., 3.],\n",
      "        [3., 3.]])\n"
     ]
    }
   ],
   "source": [
    "x = torch.ones(2,2,requires_grad=True)\n",
    "print(x)\n",
    "y=x+1\n",
    "print(y.grad_fn)     #grad_fn 是 y 张量的一个属性，它表示创建 y 张量的操作函数。\n",
    "z = y*y*3\n",
    "out = z.mean() #均值\n",
    "print(z,out)\n",
    "# 本身不返回值\n",
    "print(out.backward())\n",
    "print(x.grad)"
   ]
  },
  {
   "cell_type": "markdown",
   "metadata": {},
   "source": [
    "View函数的使用"
   ]
  },
  {
   "cell_type": "code",
   "execution_count": 1,
   "metadata": {},
   "outputs": [
    {
     "name": "stdout",
     "output_type": "stream",
     "text": [
      "torch.Size([2, 3])\n",
      "torch.Size([6])\n",
      "tensor([1, 2, 3, 4, 5, 6])\n",
      "torch.Size([6])\n"
     ]
    }
   ],
   "source": [
    "import torch\n",
    "\n",
    "# 创建一个形状为 [2, 3] 的张量（2行3列）\n",
    "x = torch.tensor([[1, 2, 3], [4, 5, 6]])\n",
    "print(x.shape)  # 输出: torch.Size([2, 3])\n",
    "\n",
    "# 使用 view() 重塑为 [6]（一维向量）\n",
    "y = x.view(6)\n",
    "print(y.shape)  # 输出: torch.Size([6])\n",
    "print(y)        # 输出: tensor([1, 2, 3, 4, 5, 6])\n",
    "\n",
    "# 等价于使用 -1 自动推断维度\n",
    "z = x.view(-1)\n",
    "print(z.shape)  # 输出: torch.Size([6])"
   ]
  }
 ],
 "metadata": {
  "kernelspec": {
   "display_name": "py312",
   "language": "python",
   "name": "python3"
  },
  "language_info": {
   "codemirror_mode": {
    "name": "ipython",
    "version": 3
   },
   "file_extension": ".py",
   "mimetype": "text/x-python",
   "name": "python",
   "nbconvert_exporter": "python",
   "pygments_lexer": "ipython3",
   "version": "3.12.3"
  }
 },
 "nbformat": 4,
 "nbformat_minor": 2
}
