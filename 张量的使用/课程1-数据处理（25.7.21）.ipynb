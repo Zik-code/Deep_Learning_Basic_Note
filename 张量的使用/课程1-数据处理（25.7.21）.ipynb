{
 "cells": [
  {
   "cell_type": "markdown",
   "id": "76e7913d",
   "metadata": {},
   "source": []
  },
  {
   "cell_type": "code",
   "execution_count": 2,
   "id": "8ae7102e",
   "metadata": {},
   "outputs": [
    {
     "name": "stdout",
     "output_type": "stream",
     "text": [
      "tensor([ 0,  1,  2,  3,  4,  5,  6,  7,  8,  9, 10, 11])\n",
      "tensor([[1., 2., 3.],\n",
      "        [4., 5., 6.]])\n",
      "tensor([[1., 4., 2.],\n",
      "        [3., 1., 6.]])\n",
      "tensor([[ 2.,  6.,  5.],\n",
      "        [ 7.,  6., 12.]])\n"
     ]
    }
   ],
   "source": [
    "import torch\n",
    "x = torch.arange(12)\n",
    "print(x)\n",
    "x1 = x.reshape(3,4)\n",
    "x1\n",
    "x2 = torch.tensor([[1.0, 2, 3], [4, 5, 6]])\n",
    "x3 = torch.tensor([[1, 4, 2], [3, 1, 6]], dtype=torch.float32)\n",
    "print(x2)\n",
    "print(x3)\n",
    "print(x2+x3)"
   ]
  },
  {
   "cell_type": "markdown",
   "id": "b9f401f4",
   "metadata": {},
   "source": [
    "### cat和stack拼接\n",
    "cat指定拼接的维度"
   ]
  },
  {
   "cell_type": "code",
   "execution_count": null,
   "id": "03f9fb3a",
   "metadata": {},
   "outputs": [
    {
     "name": "stdout",
     "output_type": "stream",
     "text": [
      "torch.Size([2, 3])\n",
      "\n",
      "torch.Size([2, 3])\n",
      "z:tensor([[1, 2, 3],\n",
      "        [4, 5, 6],\n",
      "        [1, 0, 1],\n",
      "        [4, 0, 3]]) z shape: torch.Size([4, 3])\n",
      "f:tensor([[1, 2, 3, 1, 0, 1],\n",
      "        [4, 5, 6, 4, 0, 3]]) f shape: torch.Size([2, 6])\n",
      "w:tensor([[[1, 2, 3],\n",
      "         [4, 5, 6]],\n",
      "\n",
      "        [[1, 0, 1],\n",
      "         [4, 0, 3]]]) w shape: torch.Size([2, 2, 3])\n",
      "f:tensor([[[1, 2, 3],\n",
      "         [1, 0, 1]],\n",
      "\n",
      "        [[4, 5, 6],\n",
      "         [4, 0, 3]]]) f shape: torch.Size([2, 2, 3])\n"
     ]
    }
   ],
   "source": [
    "x = torch.tensor([[1, 2, 3], [4, 5, 6],])\n",
    "print(x.shape)\n",
    "y = torch.tensor([[1, 0, 1], [4, 0, 3]])\n",
    "print()\n",
    "print(y.shape)\n",
    "z= torch.cat((x,y),dim=0) #按行拼接\n",
    "print(f'z:{z} z shape: {z.shape}') \n",
    "f = torch.cat((x,y),dim=1) #按列拼接\n",
    "print(f'f:{f} f shape: {f.shape}')\n",
    "w = torch.stack((x,y),dim=0)\n",
    "print(f'w:{w} w shape: {w.shape}')\n",
    "f = torch.stack((x,y),dim=1)\n",
    "print(f'f:{f} f shape: {f.shape}')\n",
    "\n"
   ]
  },
  {
   "cell_type": "code",
   "execution_count": null,
   "id": "ff4aa1a4",
   "metadata": {},
   "outputs": [
    {
     "data": {
      "text/plain": [
       "tensor([[ True, False, False],\n",
       "        [ True, False, False]])"
      ]
     },
     "execution_count": 15,
     "metadata": {},
     "output_type": "execute_result"
    }
   ],
   "source": [
    "x == y"
   ]
  },
  {
   "cell_type": "markdown",
   "id": "3a0d85c6",
   "metadata": {},
   "source": [
    "### 线性代数按轴求和\n",
    "按哪个轴求和，哪个轴就拍扁变为0，该维度消失，如果keepdim=True，表示该维度不消失变为1"
   ]
  },
  {
   "cell_type": "code",
   "execution_count": null,
   "id": "6a196686",
   "metadata": {},
   "outputs": [
    {
     "name": "stdout",
     "output_type": "stream",
     "text": [
      "tensor([[[1., 1., 1., 1.]],\n",
      "\n",
      "        [[1., 1., 1., 1.]]])\n",
      "torch.Size([1, 4])\n",
      "torch.Size([2, 4])\n",
      "torch.Size([2, 1])\n",
      "torch.Size([1])\n",
      "torch.Size([1, 1, 4])\n"
     ]
    }
   ],
   "source": [
    "x = torch.ones(2,1,4)\n",
    "print(x)\n",
    "\n",
    "print(x.sum(axis=0).shape)\n",
    "print(x.sum(axis=1).shape)\n",
    "print(x.sum(axis=2).shape)\n",
    "print(x.sum(axis= [0,2]).shape)\n",
    "print(x.sum(axis= [0,1],keepdim=True).shape)"
   ]
  }
 ],
 "metadata": {
  "kernelspec": {
   "display_name": "py312",
   "language": "python",
   "name": "python3"
  },
  "language_info": {
   "codemirror_mode": {
    "name": "ipython",
    "version": 3
   },
   "file_extension": ".py",
   "mimetype": "text/x-python",
   "name": "python",
   "nbconvert_exporter": "python",
   "pygments_lexer": "ipython3",
   "version": "3.12.3"
  }
 },
 "nbformat": 4,
 "nbformat_minor": 5
}
