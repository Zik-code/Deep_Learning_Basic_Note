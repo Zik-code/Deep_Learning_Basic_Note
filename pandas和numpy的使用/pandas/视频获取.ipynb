{
 "cells": [
  {
   "cell_type": "code",
   "execution_count": 2,
   "metadata": {},
   "outputs": [
    {
     "name": "stdout",
     "output_type": "stream",
     "text": [
      "success\n",
      "无法获取图片\n",
      "退出线程\n"
     ]
    }
   ],
   "source": [
    "import cv2\n",
    "import threading\n",
    "\n",
    "\n",
    "class videoThread(threading.Thread):\n",
    "    def __init__(self):\n",
    "        super(videoThread, self).__init__()\n",
    "        self.working = True\n",
    "        self.running = False\n",
    "        self.cap = cv2.VideoCapture(0)\n",
    "        if not self.cap.isOpened():\n",
    "            print('摄像头获取失败')\n",
    "        else:\n",
    "            print('success')\n",
    "        self.cap.set(cv2.CAP_PROP_FRAME_WIDTH, 1920)\n",
    "        self.cap.set(cv2.CAP_PROP_FRAME_HEIGHT, 800)\n",
    "\n",
    "\n",
    "    def run(self):\n",
    "        self.running = True\n",
    "        cv2.namedWindow('image_win', flags=cv2.WINDOW_NORMAL | cv2.WINDOW_KEEPRATIO | cv2.WINDOW_GUI_EXPANDED)\n",
    "        cv2.setWindowProperty('image_win', cv2.WND_PROP_FULLSCREEN, cv2.WINDOW_FULLSCREEN)\n",
    "        while self.working:\n",
    "            ret, frame = self.cap.read()\n",
    "            if not ret:\n",
    "                print('无法获取图片')\n",
    "                break\n",
    "            cv2.imshow('image_win', frame)\n",
    "            cv2.waitKey(1)\n",
    "        self.running = False\n",
    "\n",
    "\n",
    "    def stop(self):\n",
    "        self.working = False\n",
    "        while self.running:\n",
    "            cv2.waitKey(1)\n",
    "        self.cap.release()\n",
    "        cv2.destroyAllWindows()\n",
    "        print('退出线程')\n",
    "\n",
    "\n",
    "# 创建视频线程对象\n",
    "vT1 = videoThread()\n",
    "# 启动线程\n",
    "vT1.start()\n",
    "vT1.stop()"
   ]
  },
  {
   "cell_type": "markdown",
   "metadata": {},
   "source": [
    "利用摄像头采集一张图片\n",
    "读取的结果将其赋给变量image_obj\n",
    "保存图片名称为obj2.jpg"
   ]
  },
  {
   "cell_type": "code",
   "execution_count": 7,
   "metadata": {},
   "outputs": [],
   "source": [
    "import cv2\n",
    "import time\n",
    "cap=cv2.VideoCapture(0)\n",
    "cap.set(cv2.CAP_PROP_FRAME_WIDTH,640)\n",
    "cap.set(cv2.CAP_PROP_FRAME_WIDTH,480)\n",
    "cv2.namedWindow('image_win',flags=cv2.WINDOW_NORMAL | cv2.WINDOW_KEEPRATIO)\n",
    "cv2.setWindowProperty('image_win', cv2.WND_PROP_FULLSCREEN, cv2.WINDOW_FULLSCREEN) # 全屏展示\n",
    "ret,frame=cap.read()\n",
    "if not set:\n",
    "    print('未获取到图像')\n",
    "else:\n",
    "    cv2.imshow('image_win',frame)\n",
    "    cv2.waitKey(200)\n",
    "    cv2.imwrite('obj1.jpg',frame)\n",
    "cap.release()\n",
    "cv2.destroyAllWindows()\n"
   ]
  },
  {
   "cell_type": "code",
   "execution_count": 8,
   "metadata": {},
   "outputs": [
    {
     "ename": "SyntaxError",
     "evalue": "incomplete input (687532896.py, line 10)",
     "output_type": "error",
     "traceback": [
      "\u001b[1;36m  Cell \u001b[1;32mIn[8], line 10\u001b[1;36m\u001b[0m\n\u001b[1;33m    def run(self):\u001b[0m\n\u001b[1;37m                  ^\u001b[0m\n\u001b[1;31mSyntaxError\u001b[0m\u001b[1;31m:\u001b[0m incomplete input\n"
     ]
    }
   ],
   "source": [
    "class ObjDetectThread(threading.Thread):\n",
    "    def __init__(self):\n",
    "        threading.Thread.__init__(self)\n",
    "        self.working = True\n",
    "        self.running = False\n",
    "        self.object_det_handle=RockX(Rockx.ROCKX_MUDULE_OBJECT_DETECTION)\n",
    "        self.imgbox = widgets.Image()\n",
    "        display(self.imgbox)\n",
    "\n",
    "    def run(self):\n",
    "        self.running = True\n",
    "        while self.working:\n",
    "            try:\n",
    "                limg = camera_img\n",
    "                if limg is not None:\n",
    "                    in_img_h,in_img_w,bytesPerComonent = limg.shape\n",
    "                    ret,results=self.object_det_handle.rockx_face_detect(limg,in_img_w,RockX.)"
   ]
  },
  {
   "cell_type": "code",
   "execution_count": null,
   "metadata": {},
   "outputs": [],
   "source": []
  }
 ],
 "metadata": {
  "kernelspec": {
   "display_name": "Python 3",
   "language": "python",
   "name": "python3"
  },
  "language_info": {
   "codemirror_mode": {
    "name": "ipython",
    "version": 3
   },
   "file_extension": ".py",
   "mimetype": "text/x-python",
   "name": "python",
   "nbconvert_exporter": "python",
   "pygments_lexer": "ipython3",
   "version": "3.10.11"
  }
 },
 "nbformat": 4,
 "nbformat_minor": 2
}
